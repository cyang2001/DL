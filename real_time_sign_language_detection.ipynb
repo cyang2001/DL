{
 "cells": [
  {
   "cell_type": "code",
   "execution_count": 1,
   "metadata": {},
   "outputs": [],
   "source": [
    "import cv2\n",
    "import numpy as np\n",
    "import os\n",
    "from matplotlib import pyplot as plt\n",
    "import time"
   ]
  },
  {
   "cell_type": "code",
   "execution_count": 2,
   "metadata": {},
   "outputs": [
    {
     "name": "stderr",
     "output_type": "stream",
     "text": [
      "objc[99509]: Class CaptureDelegate is implemented in both /opt/anaconda3/envs/sign/lib/python3.10/site-packages/cv2/cv2.abi3.so (0x10d6825f8) and /opt/anaconda3/envs/sign/lib/python3.10/site-packages/mediapipe/.dylibs/libopencv_videoio.3.4.16.dylib (0x11b750860). One of the two will be used. Which one is undefined.\n",
      "objc[99509]: Class CVWindow is implemented in both /opt/anaconda3/envs/sign/lib/python3.10/site-packages/cv2/cv2.abi3.so (0x10d682648) and /opt/anaconda3/envs/sign/lib/python3.10/site-packages/mediapipe/.dylibs/libopencv_highgui.3.4.16.dylib (0x10fd30a68). One of the two will be used. Which one is undefined.\n",
      "objc[99509]: Class CVView is implemented in both /opt/anaconda3/envs/sign/lib/python3.10/site-packages/cv2/cv2.abi3.so (0x10d682670) and /opt/anaconda3/envs/sign/lib/python3.10/site-packages/mediapipe/.dylibs/libopencv_highgui.3.4.16.dylib (0x10fd30a90). One of the two will be used. Which one is undefined.\n",
      "objc[99509]: Class CVSlider is implemented in both /opt/anaconda3/envs/sign/lib/python3.10/site-packages/cv2/cv2.abi3.so (0x10d682698) and /opt/anaconda3/envs/sign/lib/python3.10/site-packages/mediapipe/.dylibs/libopencv_highgui.3.4.16.dylib (0x10fd30ab8). One of the two will be used. Which one is undefined.\n"
     ]
    }
   ],
   "source": [
    "import mediapipe as mp"
   ]
  },
  {
   "cell_type": "code",
   "execution_count": null,
   "metadata": {},
   "outputs": [
    {
     "name": "stdout",
     "output_type": "stream",
     "text": [
      "Collecting data...\n"
     ]
    }
   ],
   "source": []
  },
  {
   "cell_type": "code",
   "execution_count": null,
   "metadata": {},
   "outputs": [],
   "source": []
  }
 ],
 "metadata": {
  "kernelspec": {
   "display_name": "Python 3.10 (TF Env)",
   "language": "python",
   "name": "sign"
  },
  "language_info": {
   "codemirror_mode": {
    "name": "ipython",
    "version": 3
   },
   "file_extension": ".py",
   "mimetype": "text/x-python",
   "name": "python",
   "nbconvert_exporter": "python",
   "pygments_lexer": "ipython3",
   "version": "3.10.16"
  }
 },
 "nbformat": 4,
 "nbformat_minor": 2
}
